{
 "cells": [
  {
   "cell_type": "code",
   "execution_count": 1,
   "metadata": {},
   "outputs": [],
   "source": [
    "import json"
   ]
  },
  {
   "cell_type": "code",
   "execution_count": 2,
   "metadata": {},
   "outputs": [
    {
     "data": {
      "text/plain": [
       "dict_keys(['categories', 'images', 'annotations'])"
      ]
     },
     "execution_count": 2,
     "metadata": {},
     "output_type": "execute_result"
    }
   ],
   "source": [
    "base_dir = '/home/samuelkim/.kaggle/data/sartorius/json_kaggle/'\n",
    "train_json = base_dir + 'annotations_train.json'\n",
    "val_json = base_dir + 'annotations_val_010_1.json'\n",
    "\n",
    "with open(train_json, 'r') as js:\n",
    "    train_data = json.load(js)\n",
    "\n",
    "with open(val_json, 'r') as js:\n",
    "    val_data = json.load(js)\n",
    "\n",
    "train_data.keys()"
   ]
  },
  {
   "cell_type": "code",
   "execution_count": 3,
   "metadata": {},
   "outputs": [
    {
     "data": {
      "text/plain": [
       "[{'name': 'shsy5y', 'id': 1},\n",
       " {'name': 'astro', 'id': 2},\n",
       " {'name': 'cort', 'id': 3}]"
      ]
     },
     "execution_count": 3,
     "metadata": {},
     "output_type": "execute_result"
    }
   ],
   "source": [
    "val_data['categories']"
   ]
  },
  {
   "cell_type": "code",
   "execution_count": 4,
   "metadata": {},
   "outputs": [
    {
     "data": {
      "text/plain": [
       "{'id': '0140b3c8f445',\n",
       " 'width': 704,\n",
       " 'height': 520,\n",
       " 'file_name': 'train/0140b3c8f445.png'}"
      ]
     },
     "execution_count": 4,
     "metadata": {},
     "output_type": "execute_result"
    }
   ],
   "source": [
    "# split val into each class\n",
    "\n",
    "val_data['images'][0]"
   ]
  },
  {
   "cell_type": "code",
   "execution_count": 5,
   "metadata": {},
   "outputs": [
    {
     "name": "stdout",
     "output_type": "stream",
     "text": [
      "{'segmentation': {'counts': [19369, 7, 511, 8, 510, 10, 508, 11, 507, 12, 506, 13, 505, 15, 503, 16, 503, 16, 502, 17, 502, 16, 502, 17, 502, 16, 502, 17, 502, 16, 502, 16, 503, 16, 502, 16, 502, 17, 501, 17, 501, 18, 500, 19, 498, 21, 497, 22, 496, 22, 496, 23, 495, 24, 494, 25, 493, 26, 493, 26, 492, 27, 492, 26, 494, 25, 494, 25, 495, 24, 495, 24, 496, 22, 497, 21, 499, 19, 500, 18, 502, 17, 502, 18, 502, 17, 502, 17, 502, 18, 502, 17, 502, 18, 501, 18, 502, 17, 502, 18, 501, 18, 502, 17, 502, 17, 502, 17, 503, 16, 503, 16, 503, 16, 504, 15, 504, 15, 504, 15, 505, 14, 505, 14, 505, 14, 506, 13, 506, 13, 506, 13, 507, 12, 507, 11, 508, 11, 509, 10, 509, 10, 510, 9, 510, 9, 511, 8, 512, 7, 512, 7, 513, 6, 513, 6, 514, 5, 515, 4, 517, 2, 518, 1, 304672], 'size': [520, 704]}, 'bbox': [37, 46, 82, 90], 'area': 1282, 'image_id': '0140b3c8f445', 'category_id': 2, 'iscrowd': 0, 'id': 395}\n"
     ]
    }
   ],
   "source": [
    "print(val_data['annotations'][0])"
   ]
  },
  {
   "cell_type": "code",
   "execution_count": 6,
   "metadata": {},
   "outputs": [
    {
     "name": "stdout",
     "output_type": "stream",
     "text": [
      "8055\n",
      "5433 1493 1129\n",
      "61\n",
      "16 12 33\n"
     ]
    }
   ],
   "source": [
    "val_shsy5y_annots = []\n",
    "val_astro_annots = []\n",
    "val_cort_annots = []\n",
    "val_shsy5y_images = []\n",
    "val_astro_images = []\n",
    "val_cort_images = []\n",
    "\n",
    "for i, annot in enumerate(val_data['annotations']):\n",
    "    if annot['category_id'] == 1:\n",
    "        val_shsy5y_annots.append(annot)\n",
    "        val_shsy5y_images.append(annot['image_id'])\n",
    "    elif annot['category_id'] == 2:\n",
    "        val_astro_annots.append(annot)\n",
    "        val_astro_images.append(annot['image_id'])\n",
    "    else:\n",
    "        val_cort_annots.append(annot)\n",
    "        val_cort_images.append(annot['image_id'])\n",
    "\n",
    "val_shsy5y_images = list(dict.fromkeys(val_shsy5y_images))\n",
    "val_astro_images = list(dict.fromkeys(val_astro_images))\n",
    "val_cort_images = list(dict.fromkeys(val_cort_images))\n",
    "\n",
    "print(len(val_data['annotations']))\n",
    "print(len(val_shsy5y_annots), len(val_astro_annots), len(val_cort_annots))\n",
    "print(len(val_data['images']))\n",
    "print(len(val_shsy5y_images), len(val_astro_images), len(val_cort_images))"
   ]
  },
  {
   "cell_type": "code",
   "execution_count": 7,
   "metadata": {},
   "outputs": [
    {
     "name": "stdout",
     "output_type": "stream",
     "text": [
      "16 12 33\n"
     ]
    }
   ],
   "source": [
    "val_shsy5y_imgs = []\n",
    "val_astro_imgs = []\n",
    "val_cort_imgs = []\n",
    "\n",
    "for i, image in enumerate(val_data['images']):\n",
    "    if image['id'] in val_shsy5y_images:\n",
    "        val_shsy5y_imgs.append(image)\n",
    "    elif image['id'] in val_astro_images:\n",
    "        val_astro_imgs.append(image)\n",
    "    else:\n",
    "        val_cort_imgs.append(image)\n",
    "\n",
    "print(len(val_shsy5y_imgs), len(val_astro_imgs), len(val_cort_imgs))"
   ]
  },
  {
   "cell_type": "code",
   "execution_count": 8,
   "metadata": {},
   "outputs": [
    {
     "ename": "SyntaxError",
     "evalue": "invalid syntax (805232851.py, line 5)",
     "output_type": "error",
     "traceback": [
      "\u001b[0;36m  File \u001b[0;32m\"/tmp/ipykernel_8864/805232851.py\"\u001b[0;36m, line \u001b[0;32m5\u001b[0m\n\u001b[0;31m    val_shsy5y_annots[i]['id'] =\u001b[0m\n\u001b[0m                                 ^\u001b[0m\n\u001b[0;31mSyntaxError\u001b[0m\u001b[0;31m:\u001b[0m invalid syntax\n"
     ]
    }
   ],
   "source": [
    "num_id = 1\n",
    "\n",
    "for i, annot in enumerate(val_shsy5y_annots):\n",
    "    val_shsy5y_annots[i]['category_id'] = 1\n",
    "    val_shsy5y_annots[i]['id'] = "
   ]
  },
  {
   "cell_type": "code",
   "execution_count": null,
   "metadata": {},
   "outputs": [],
   "source": [
    "val_shsy5y = {\n",
    "    'categories': list({'name': 'shsy5y', 'id': 1}),\n",
    "    'iamges': val_shsy5y_imgs,\n",
    "    'annotations': val_shsy5y_annots\n",
    "}\n",
    "\n",
    "val_astro = {\n",
    "    'categories': list({'name': 'astro', 'id': 1}),\n",
    "    'iamges': val_astro_imgs,\n",
    "    'annotations': val_astro_annots\n",
    "}\n",
    "\n",
    "val_cort = {\n",
    "    'categories': list({'name': 'cort', 'id': 1}),\n",
    "    'iamges': val_cort_imgs,\n",
    "    'annotations': val_cort_annots\n",
    "}"
   ]
  },
  {
   "cell_type": "code",
   "execution_count": 9,
   "metadata": {},
   "outputs": [],
   "source": [
    "base_dir = '/home/samuelkim/.kaggle/data/sartorius/json_kaggle/'\n",
    "\n",
    "with open(base_dir + 'annotations_val_010_shsy5y.json', 'r') as js:\n",
    "    shs = json.load(js)\n",
    "\n",
    "with open(base_dir + 'annotations_val_010_astro.json', 'r') as js:\n",
    "    astro = json.load(js)\n",
    "\n",
    "with open(base_dir + 'annotations_val_010_cort.json', 'r') as js:\n",
    "    cort = json.load(js)"
   ]
  },
  {
   "cell_type": "code",
   "execution_count": 11,
   "metadata": {},
   "outputs": [],
   "source": [
    "shs['categories'] = list(shs['categories'])"
   ]
  },
  {
   "cell_type": "code",
   "execution_count": 12,
   "metadata": {},
   "outputs": [],
   "source": [
    "astro['categories'] = list(astro['categories'])\n",
    "cort['categories'] = list(cort['categories'])"
   ]
  },
  {
   "cell_type": "code",
   "execution_count": 13,
   "metadata": {},
   "outputs": [],
   "source": [
    "base_dir = '/home/samuelkim/.kaggle/data/sartorius/json_kaggle/'\n",
    "\n",
    "with open(base_dir + 'annotations_val_010_shsy5y.json', 'w') as js:\n",
    "    json.dump(shs, js)\n",
    "\n",
    "with open(base_dir + 'annotations_val_010_astro.json', 'w') as js:\n",
    "    json.dump(astro, js)\n",
    "\n",
    "with open(base_dir + 'annotations_val_010_cort.json', 'w') as js:\n",
    "    json.dump(cort, js)"
   ]
  },
  {
   "cell_type": "code",
   "execution_count": null,
   "metadata": {},
   "outputs": [],
   "source": []
  }
 ],
 "metadata": {
  "interpreter": {
   "hash": "b2dc26db922de758e649e869b957455580f58ee02fbc6752d10271b4e8e72ffe"
  },
  "kernelspec": {
   "display_name": "Python 3.7.10 64-bit ('det2': conda)",
   "name": "python3"
  },
  "language_info": {
   "codemirror_mode": {
    "name": "ipython",
    "version": 3
   },
   "file_extension": ".py",
   "mimetype": "text/x-python",
   "name": "python",
   "nbconvert_exporter": "python",
   "pygments_lexer": "ipython3",
   "version": "3.7.10"
  },
  "orig_nbformat": 4
 },
 "nbformat": 4,
 "nbformat_minor": 2
}