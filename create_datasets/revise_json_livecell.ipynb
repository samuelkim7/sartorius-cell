{
 "cells": [
  {
   "cell_type": "code",
   "execution_count": 1,
   "metadata": {},
   "outputs": [],
   "source": [
    "import json"
   ]
  },
  {
   "cell_type": "code",
   "execution_count": 2,
   "metadata": {},
   "outputs": [],
   "source": [
    "json_dir = \"/home/samuelkim/.kaggle/data/sartorius/json_kaggle\""
   ]
  },
  {
   "cell_type": "code",
   "execution_count": 3,
   "metadata": {},
   "outputs": [],
   "source": [
    "# '['a172', 'bt474', 'bv2', 'huh7', 'mcf7', 'shsy5y', 'skbr3', 'skov3']'\n",
    "# '['shsy5y', 'astro', 'cort']'\n",
    "\n",
    "def convert_label(anno_dict):\n",
    "    label_map ={\"a172\": \"astro\", # 0->2\n",
    "                \"b5474\": \"cort\", #1->3\n",
    "                \"bv2\": \"cort\", #2->3\n",
    "                \"huh7\": \"astro\", #3->2\n",
    "                \"mcf7\": \"astro\", #4->2\n",
    "                \"shsy5y\": \"shsy5y\", #5->1\n",
    "                \"skbr3\": \"shsy5y\", #6->1\n",
    "                \"skov3\": \"shsy5y\"} #7->1\n",
    "\n",
    "    inv_id_map = {0: 2,\n",
    "                  1: 3,\n",
    "                  2: 3,\n",
    "                  3: 2,\n",
    "                  4: 2,\n",
    "                  5: 1,\n",
    "                  6: 1,\n",
    "                  7: 1}\n",
    "\n",
    "    id_map = {\"shsy5y\": 1,\"astro\": 2,\"cort\": 3}\n",
    "\n",
    "    categories = [{'name': 'shsy5y', 'id': 1},{'name': 'astro', 'id': 2},{'name': 'cort', 'id': 3}]\n",
    "\n",
    "    for i in range(len(anno_dict[\"annotations\"])):\n",
    "        prev_id = anno_dict[\"annotations\"][i][\"category_id\"]\n",
    "        new_id = inv_id_map[prev_id]\n",
    "        anno_dict[\"annotations\"][i][\"category_id\"] = new_id\n",
    "\n",
    "    anno_dict[\"categories\"] = categories\n",
    "\n",
    "    return anno_dict"
   ]
  },
  {
   "cell_type": "code",
   "execution_count": 4,
   "metadata": {},
   "outputs": [],
   "source": [
    "# Curate Train annotations\n",
    "with open(f'{json_dir}/livecell_annotations_train.json', \"r\") as f:\n",
    "    train_anno = json.load(f)\n",
    "\n",
    "train_anno = convert_label(train_anno)\n",
    "\n",
    "with open(f'{json_dir}/livecell_annotations_train_curated.json', \"w\") as f:\n",
    "    json.dump(train_anno, f)\n",
    "\n",
    "# Curate Valid annotations\n",
    "with open(f'{json_dir}/livecell_annotations_val.json', \"r\") as f:\n",
    "    valid_anno = json.load(f)\n",
    "\n",
    "valid_anno = convert_label(valid_anno)\n",
    "\n",
    "with open(f'{json_dir}/livecell_annotations_val_curated.json', \"w\") as f:\n",
    "    json.dump(valid_anno, f)\n",
    "\n",
    "# Curate Test annotations\n",
    "with open(f'{json_dir}/livecell_annotations_test.json', \"r\") as f:\n",
    "    test_anno = json.load(f)\n",
    "\n",
    "test_anno = convert_label(test_anno)\n",
    "\n",
    "with open(f'{json_dir}/livecell_annotations_test_curated.json', \"w\") as f:\n",
    "    json.dump(test_anno, f)"
   ]
  },
  {
   "cell_type": "code",
   "execution_count": null,
   "metadata": {},
   "outputs": [],
   "source": []
  }
 ],
 "metadata": {
  "interpreter": {
   "hash": "b2dc26db922de758e649e869b957455580f58ee02fbc6752d10271b4e8e72ffe"
  },
  "kernelspec": {
   "display_name": "Python 3.7.10 64-bit",
   "name": "python3"
  },
  "language_info": {
   "codemirror_mode": {
    "name": "ipython",
    "version": 3
   },
   "file_extension": ".py",
   "mimetype": "text/x-python",
   "name": "python",
   "nbconvert_exporter": "python",
   "pygments_lexer": "ipython3",
   "version": "3.7.10"
  },
  "orig_nbformat": 4
 },
 "nbformat": 4,
 "nbformat_minor": 2
}